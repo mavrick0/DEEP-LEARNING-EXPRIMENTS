{
  "nbformat": 4,
  "nbformat_minor": 0,
  "metadata": {
    "colab": {
      "provenance": [],
      "authorship_tag": "ABX9TyPZeUgXFLZC7+2Ap1hmDHXJ",
      "include_colab_link": true
    },
    "kernelspec": {
      "name": "python3",
      "display_name": "Python 3"
    },
    "language_info": {
      "name": "python"
    }
  },
  "cells": [
    {
      "cell_type": "markdown",
      "metadata": {
        "id": "view-in-github",
        "colab_type": "text"
      },
      "source": [
        "<a href=\"https://colab.research.google.com/github/mavrick0/DEEP-LEARNING-EXPRIMENTS/blob/main/DL0601.ipynb\" target=\"_parent\"><img src=\"https://colab.research.google.com/assets/colab-badge.svg\" alt=\"Open In Colab\"/></a>"
      ]
    },
    {
      "cell_type": "code",
      "execution_count": null,
      "metadata": {
        "colab": {
          "base_uri": "https://localhost:8080/"
        },
        "id": "9DSmvopO56o5",
        "outputId": "fc473795-7696-4b2f-cf52-119c62ac447b"
      },
      "outputs": [
        {
          "output_type": "stream",
          "name": "stderr",
          "text": [
            "/usr/local/lib/python3.10/dist-packages/keras/src/layers/core/dense.py:87: UserWarning: Do not pass an `input_shape`/`input_dim` argument to a layer. When using Sequential models, prefer using an `Input(shape)` object as the first layer in the model instead.\n",
            "  super().__init__(activity_regularizer=activity_regularizer, **kwargs)\n"
          ]
        },
        {
          "output_type": "stream",
          "name": "stdout",
          "text": [
            "Accuracy: 100.00%\n",
            "\u001b[1m1/1\u001b[0m \u001b[32m━━━━━━━━━━━━━━━━━━━━\u001b[0m\u001b[37m\u001b[0m \u001b[1m0s\u001b[0m 86ms/step\n",
            "Predicted XOR outputs:\n",
            "[[0.]\n",
            " [1.]\n",
            " [1.]\n",
            " [0.]]\n"
          ]
        }
      ],
      "source": [
        "import numpy as np\n",
        "from tensorflow.keras.models import Sequential\n",
        "from tensorflow.keras.layers import Dense\n",
        "\n",
        "# XOR inputs and outputs\n",
        "X = np.array([[0, 0], [0, 1], [1, 0], [1, 1]])  # Inputs\n",
        "y = np.array([0, 1, 1, 0])  # Outputs (XOR truth table)\n",
        "\n",
        "# Define the model\n",
        "model = Sequential()\n",
        "# Add the first hidden layer with 2 neurons and ReLU activation\n",
        "model.add(Dense(2, input_dim=2, activation='relu'))\n",
        "# Add the second hidden layer with 2 neurons and ReLU activation\n",
        "model.add(Dense(2, activation='relu'))\n",
        "# Add the output layer with 1 neuron and sigmoid activation for binary output\n",
        "model.add(Dense(1, activation='sigmoid'))\n",
        "\n",
        "# Compile the model with binary crossentropy loss and Adam optimizer\n",
        "model.compile(optimizer='adam', loss='binary_crossentropy', metrics=['accuracy'])\n",
        "\n",
        "# Train the model for 1000 epochs\n",
        "model.fit(X, y, epochs=1000, verbose=0)\n",
        "\n",
        "# Evaluate the model accuracy\n",
        "loss, accuracy = model.evaluate(X, y, verbose=0)\n",
        "print(f'Accuracy: {accuracy * 100:.2f}%')\n",
        "\n",
        "# Make predictions on the XOR inputs\n",
        "predictions = model.predict(X)\n",
        "\n",
        "# Print the rounded predictions (rounded to 0 or 1)\n",
        "print(\"Predicted XOR outputs:\")\n",
        "print(np.round(predictions))  # Round predictions to the nearest integer (0 or 1)\n"
      ]
    }
  ]
}